{
 "cells": [
  {
   "cell_type": "code",
   "execution_count": 1,
   "metadata": {},
   "outputs": [],
   "source": [
    "import numpy as np"
   ]
  },
  {
   "cell_type": "code",
   "execution_count": 23,
   "metadata": {},
   "outputs": [
    {
     "name": "stdout",
     "output_type": "stream",
     "text": [
      "Poooor\n",
      "Pooooaaar\n",
      "Poooooooaaar\n",
      "Pooaaar\n",
      "Poooooaaar\n",
      "Pooooooar\n",
      "Pooooaaaaar\n",
      "Pooooooaar\n",
      "Pooooaaaar\n",
      "Pooaaar\n"
     ]
    }
   ],
   "source": [
    "for i in range(10):\n",
    "    print(f'P{np.random.binomial(10, 0.5)*\"o\"}{np.random.binomial(5, 0.5)*\"a\"}r')"
   ]
  }
 ],
 "metadata": {
  "kernelspec": {
   "display_name": "Python 3",
   "language": "python",
   "name": "python3"
  },
  "language_info": {
   "codemirror_mode": {
    "name": "ipython",
    "version": 3
   },
   "file_extension": ".py",
   "mimetype": "text/x-python",
   "name": "python",
   "nbconvert_exporter": "python",
   "pygments_lexer": "ipython3",
   "version": "3.7.1"
  }
 },
 "nbformat": 4,
 "nbformat_minor": 4
}
